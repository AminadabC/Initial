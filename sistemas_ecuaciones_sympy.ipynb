{
 "cells": [
  {
   "cell_type": "markdown",
   "metadata": {},
   "source": [
    "## Uso de SymPy para Resolver Sistemas de Ecuaciones Lineales ##"
   ]
  },
  {
   "cell_type": "code",
   "execution_count": 1,
   "metadata": {},
   "outputs": [
    {
     "name": "stdout",
     "output_type": "stream",
     "text": [
      "Solución del sistema:\n",
      "{x: 3/7, y: 12/7}\n"
     ]
    }
   ],
   "source": [
    "import sympy as sp\n",
    "\n",
    "# Definimos las variables\n",
    "x, y = sp.symbols('x y')\n",
    "\n",
    "# Definimos las ecuaciones\n",
    "eq1 = sp.Eq(2*x + 3*y, 6)\n",
    "eq2 = sp.Eq(-x + 2*y, 3)\n",
    "\n",
    "# Resolvemos el sistema de ecuaciones\n",
    "solution = sp.solve((eq1, eq2), (x, y))\n",
    "\n",
    "# Mostramos la solución\n",
    "print(\"Solución del sistema:\")\n",
    "print(solution)\n"
   ]
  },
  {
   "cell_type": "code",
   "execution_count": 3,
   "metadata": {},
   "outputs": [
    {
     "name": "stdout",
     "output_type": "stream",
     "text": [
      "Solución del sistema:\n",
      "{x: 5/2 - 7*z/4, y: -z/2}\n"
     ]
    }
   ],
   "source": [
    "# Definimos las variables\n",
    "x, y, z = sp.symbols('x y z')\n",
    "\n",
    "# Definimos las ecuaciones\n",
    "eq1 = sp.Eq(2*x + 3*y+ 5*z, 5)\n",
    "eq2 = sp.Eq(1 - 2*y+ -1*z, 1)\n",
    "\n",
    "# Resolvemos el sistema de ecuaciones\n",
    "solution = sp.solve((eq1, eq2), (x, y, z))\n",
    "\n",
    "# Mostramos la solución\n",
    "print(\"Solución del sistema:\")\n",
    "print(solution)\n"
   ]
  },
  {
   "cell_type": "code",
   "execution_count": 6,
   "metadata": {},
   "outputs": [
    {
     "name": "stdout",
     "output_type": "stream",
     "text": [
      "La solución del sistema es: x1 = x3 + 1, x2 = 4 - 2*x3, x3 = None\n"
     ]
    }
   ],
   "source": [
    "# Definir las variables con subíndices\n",
    "x1, x2, x3 = sp.symbols('x1 x2 x3')\n",
    "\n",
    "# Definir las ecuaciones\n",
    "eq1 = sp.Eq(x1 + 2*x2 + 3*x3, 9)\n",
    "eq2 = sp.Eq(4*x1 + 5*x2 + 6*x3, 24)\n",
    "eq3 = sp.Eq(7*x1 + 8*x2 + 9*x3, 39)\n",
    "\n",
    "# Resolver el sistema de ecuaciones\n",
    "solution = sp.solve((eq1, eq2, eq3), (x1, x2, x3))\n",
    "\n",
    "# Verificar el tipo de la solución y manejar diferentes casos\n",
    "if isinstance(solution, dict):\n",
    "    # La solución es un diccionario con las variables\n",
    "    print(f\"La solución del sistema es: x1 = {solution.get(x1)}, x2 = {solution.get(x2)}, x3 = {solution.get(x3)}\")\n",
    "elif isinstance(solution, list) and solution:\n",
    "    # La solución es una lista de diccionarios (si hay múltiples soluciones)\n",
    "    print(\"La solución del sistema es:\")\n",
    "    for sol in solution:\n",
    "        print(f\"x1 = {sol.get(x1)}, x2 = {sol.get(x2)}, x3 = {sol.get(x3)}\")\n",
    "else:\n",
    "    # No hay solución\n",
    "    print(\"No hay solución para el sistema de ecuaciones.\")\n"
   ]
  }
 ],
 "metadata": {
  "kernelspec": {
   "display_name": "Python 3",
   "language": "python",
   "name": "python3"
  },
  "language_info": {
   "codemirror_mode": {
    "name": "ipython",
    "version": 3
   },
   "file_extension": ".py",
   "mimetype": "text/x-python",
   "name": "python",
   "nbconvert_exporter": "python",
   "pygments_lexer": "ipython3",
   "version": "3.12.0"
  }
 },
 "nbformat": 4,
 "nbformat_minor": 2
}
