{
 "cells": [
  {
   "cell_type": "markdown",
   "metadata": {},
   "source": [
    "### Unión de archivos de Pronóstico de Generación Intermitente ###"
   ]
  },
  {
   "cell_type": "code",
   "execution_count": null,
   "metadata": {},
   "outputs": [],
   "source": [
    "# Importación de librerias requeridas\n",
    "import pandas as pd\n",
    "import glob\n",
    "from datetime import datetime\n",
    "import warnings\n",
    "warnings.filterwarnings(\"ignore\")"
   ]
  },
  {
   "cell_type": "code",
   "execution_count": null,
   "metadata": {},
   "outputs": [],
   "source": [
    "# Se define la ruta en donde se ubican los archivos fuente\n",
    "path = r\"C:\\Users\\E3C\\Documents\\Bases de datos\\Info_MBP\\HorasCriticas_AC\"\n",
    "\n",
    "# se guardan todas las rutas\n",
    "all_files = glob.glob(path + \"/*.csv\")"
   ]
  }
 ],
 "metadata": {
  "language_info": {
   "name": "python"
  }
 },
 "nbformat": 4,
 "nbformat_minor": 2
}
